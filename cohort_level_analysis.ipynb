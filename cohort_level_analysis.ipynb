{
 "cells": [
  {
   "cell_type": "markdown",
   "metadata": {},
   "source": [
    "<h><b> Steps used to generate TMB for cohort level plots </b></h>"
   ]
  },
  {
   "cell_type": "markdown",
   "metadata": {},
   "source": []
  },
  {
   "cell_type": "code",
   "execution_count": null,
   "metadata": {},
   "outputs": [],
   "source": []
  },
  {
   "cell_type": "code",
   "execution_count": null,
   "metadata": {},
   "outputs": [],
   "source": []
  },
  {
   "cell_type": "code",
   "execution_count": null,
   "metadata": {},
   "outputs": [],
   "source": []
  },
  {
   "cell_type": "code",
   "execution_count": null,
   "metadata": {},
   "outputs": [],
   "source": []
  },
  {
   "cell_type": "code",
   "execution_count": 16,
   "metadata": {},
   "outputs": [],
   "source": [
    "import pandas as pd\n",
    "import numpy as np\n",
    "cohort1_maf = pd.read_csv(\"../MAF_files_from_s3/cohorts/pnoc003_subset_Diagnosis_merged.maf\", sep=\"\\t\")\n",
    "cohort2_maf = pd.read_csv(\n",
    "    \"../MAF_files_from_s3/cohorts/pnoc003_subset_Diagnosis_Progressive_Disease_Post-Mortem_Progressive_merged.maf\",\n",
    "    sep=\"\\t\")\n",
    "cohort3_maf = pd.read_csv(\"../MAF_files_from_s3/cohorts/pbta_wgs-consensus-open-pbta-HGAT_merged.maf\", sep=\"\\t\")\n",
    "pnoc003_hist = pd.read_csv(\"histologies/pnoc003_histologies_v17_candidate.tsv\", sep=\"\\t\")"
   ]
  },
  {
   "cell_type": "code",
   "execution_count": 14,
   "metadata": {},
   "outputs": [],
   "source": [
    "for sample in np.unique(cohort2_maf[\"Tumor_Sample_Barcode\"]):\n",
    "    if sample not in np.unique(pnoc003_hist[\"kids_first_biospecimen_id\"]):\n",
    "        print(sample)"
   ]
  },
  {
   "cell_type": "code",
   "execution_count": null,
   "metadata": {},
   "outputs": [],
   "source": []
  },
  {
   "cell_type": "code",
   "execution_count": null,
   "metadata": {},
   "outputs": [],
   "source": []
  }
 ],
 "metadata": {
  "kernelspec": {
   "display_name": "Python 3",
   "language": "python",
   "name": "python3"
  },
  "language_info": {
   "codemirror_mode": {
    "name": "ipython",
    "version": 3
   },
   "file_extension": ".py",
   "mimetype": "text/x-python",
   "name": "python",
   "nbconvert_exporter": "python",
   "pygments_lexer": "ipython3",
   "version": "3.7.6"
  }
 },
 "nbformat": 4,
 "nbformat_minor": 4
}
