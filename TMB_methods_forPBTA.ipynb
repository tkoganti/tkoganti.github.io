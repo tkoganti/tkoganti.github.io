{
 "cells": [
  {
   "cell_type": "markdown",
   "metadata": {},
   "source": [
    "<h><b> Steps used to generate TMB for PBTA samples </b></h>"
   ]
  },
  {
   "cell_type": "markdown",
   "metadata": {},
   "source": [
    "##### 1. python code used for different cohorts within PBTA to generate TMB values - \n",
    "\n",
    "###### PNOC003 samples - \n",
    "- python3 code/01_calculate_tmb_targetflexible.py -i MAF_files_from_s3/pnoc003_wxs-consensus-open-pbta-merged.maf.gz -m histologies/pnoc003_histologies_v17_candidate.tsv -o TMB_outfiles/pnoc003_WXS_TMBwithStrexomeBED.txt -w config_files/target_cfg.Strexome.txt -c config_files/calculate_tmb.cfg.txt \n",
    "\n",
    "- python3 code/01_calculate_tmb_targetflexible.py -i MAF_files_from_s3/pnoc003_wgs-consensus-open-pbta-merged.maf.gz -m histologies/pnoc003_histologies_v17_candidate.tsv -o TMB_outfiles/pnoc003_WGS_TMB.txt -w config_files/target_cfg.Strexome.txt -c config_files/calculate_tmb.cfg.txt \n",
    "\n",
    "###### PNOC008 samples -\n",
    "- python3 code/01_calculate_tmb_targetflexible.py -i MAF_files_from_s3/pnoc008-wxs-snv-consensus-mutation.maf.tsv.gz -m histologies/pnoc008_histologies_v17_candidate.tsv -o TMB_outfiles/pnoc008_WXS_TMBwithxgenBED.txt -w config_files/target_cfg.xgen.txt -c config_files/calculate_tmb.cfg.txt \n",
    "\n",
    "\n",
    "###### PBTA MAF file -\n",
    " - python3 code/01_calculate_tmb_targetflexible.py -i MAF_files_from_s3/pbta_wgs-consensus-open-pbta-merged.maf.gz -m histologies/pnoc003_and_pnoc008_and_cbttc_v17_candidate.tsv -o TMB_outfiles/pbta_WGS_TMB.txt -w config_files/target_cfg.Strexome.txt -c config_files/calculate_tmb.cfg.txt \n",
    "\n",
    "\n",
    "- pbta wxs is a little different in terms of getting the correct target capture kit file - instead of using `experimental_strategy`, I am using `cohort`. It has two values, PNOC003 and PNOC008. \n",
    "  - python3 code/01_calculate_tmb_targetflexible.py -i MAF_files_from_s3/pbta_wxs-consensus-open-pbta-merged.maf.gz -m histologies/pnoc003_and_pnoc008_and_cbttc_v17_candidate.tsv -o  TMB_outfiles/pbta_WXS_Strexomeandxgen.TMB.txt -w config_files/target_cfg.pbta_wxs.cfg.txt -c config_files/calculate_tmb.pbtawxs.cfg.txt\n"
   ]
  },
  {
   "cell_type": "code",
   "execution_count": null,
   "metadata": {},
   "outputs": [],
   "source": []
  },
  {
   "cell_type": "code",
   "execution_count": 40,
   "metadata": {},
   "outputs": [],
   "source": [
    "## Adding a column called cohort, based on which the plots will be separated \n",
    "## cohort will have both disease and cohort\n",
    "\n",
    "import os\n",
    "import pandas as pd\n",
    "import numpy as np\n",
    "\n",
    "count=0\n",
    "for filename in os.listdir('TMB_outfiles/'):\n",
    "    count+=1\n",
    "    cohort_name = (\"_\").join(filename.split(\"_\")[0:2])\n",
    "    tmb_df = pd.read_csv(\"TMB_outfiles/\"+filename, sep=\"\\t\")\n",
    "    tmb_df[\"cohort\"] = cohort_name\n",
    "    tmb_df[\"cohort\"] = tmb_df.apply(lambda x: x[\"cohort\"]+\"_\"+x[\"disease\"] ,axis=1)\n",
    "    if count==1:\n",
    "        final_df = tmb_df\n",
    "    else:\n",
    "        final_df = tmb_df.append(final_df)\n",
    "    tmb_df.to_csv(\"TMB_outfiles/\"+filename, sep=\"\\t\", index=None)\n",
    "final_df.to_csv(\"TMB_outfiles/final_all_cohorts_TMB.txt\", sep=\"\\t\", index=None)  "
   ]
  },
  {
   "cell_type": "markdown",
   "metadata": {},
   "source": [
    "###### 2. Generating final plots from TMB values file \n",
    "\n",
    "- python3 code/02_cumulative_freq_TMBplot.py -t TMB_outfiles/final_all_cohorts_TMB.txt -s 5 -o all_cohorts \n"
   ]
  },
  {
   "cell_type": "code",
   "execution_count": null,
   "metadata": {},
   "outputs": [],
   "source": []
  },
  {
   "cell_type": "code",
   "execution_count": null,
   "metadata": {},
   "outputs": [],
   "source": []
  }
 ],
 "metadata": {
  "kernelspec": {
   "display_name": "Python 3",
   "language": "python",
   "name": "python3"
  },
  "language_info": {
   "codemirror_mode": {
    "name": "ipython",
    "version": 3
   },
   "file_extension": ".py",
   "mimetype": "text/x-python",
   "name": "python",
   "nbconvert_exporter": "python",
   "pygments_lexer": "ipython3",
   "version": "3.7.6"
  }
 },
 "nbformat": 4,
 "nbformat_minor": 4
}
