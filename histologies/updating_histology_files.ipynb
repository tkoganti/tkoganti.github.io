{
 "cells": [
  {
   "cell_type": "code",
   "execution_count": 1,
   "metadata": {},
   "outputs": [],
   "source": [
    "import pandas as pd\n",
    "\n"
   ]
  },
  {
   "cell_type": "code",
   "execution_count": 23,
   "metadata": {},
   "outputs": [],
   "source": [
    "pnoc003 = pd.read_csv(\"pnoc003_histologies_v17_candidate.csv\", sep=\",\")\n",
    "\n",
    "pnoc008 = pd.read_csv(\"pnoc008_histologies_v17_candidate.csv\", sep=\",\")\n",
    "\n",
    "cbttc = pd.read_csv(\"cbttc_histologies_v17_candidate.csv\", sep=\",\")\n",
    "                      "
   ]
  },
  {
   "cell_type": "code",
   "execution_count": 5,
   "metadata": {},
   "outputs": [],
   "source": [
    "pnoc003.to_csv(\"pnoc003_histologies_v17_candidate.tsv\", sep=\"\\t\", index=None)\n"
   ]
  },
  {
   "cell_type": "code",
   "execution_count": 7,
   "metadata": {},
   "outputs": [],
   "source": [
    "pnoc008.to_csv(\"pnoc008_histologies_v17_candidate.tsv\", sep=\"\\t\", index=None)"
   ]
  },
  {
   "cell_type": "code",
   "execution_count": null,
   "metadata": {},
   "outputs": [],
   "source": []
  },
  {
   "cell_type": "code",
   "execution_count": 24,
   "metadata": {},
   "outputs": [],
   "source": [
    "pnoc003_and_cbttc_hist = pnoc003.append(cbttc, ignore_index=True)\n",
    "pnoc003_and_pnoc008_and_cbttc_hist = pnoc003_and_cbttc_hist.append(pnoc008, ignore_index=True)\n",
    "pnoc003_and_pnoc008_and_cbttc_hist.to_csv(\"pnoc003_and_pnoc008_and_cbttc_v17_candidate.tsv\", sep=\"\\t\", index=None)\n"
   ]
  },
  {
   "cell_type": "code",
   "execution_count": null,
   "metadata": {},
   "outputs": [],
   "source": []
  },
  {
   "cell_type": "code",
   "execution_count": null,
   "metadata": {},
   "outputs": [],
   "source": []
  },
  {
   "cell_type": "code",
   "execution_count": null,
   "metadata": {},
   "outputs": [],
   "source": []
  },
  {
   "cell_type": "code",
   "execution_count": null,
   "metadata": {},
   "outputs": [],
   "source": []
  }
 ],
 "metadata": {
  "kernelspec": {
   "display_name": "Python 3",
   "language": "python",
   "name": "python3"
  },
  "language_info": {
   "codemirror_mode": {
    "name": "ipython",
    "version": 3
   },
   "file_extension": ".py",
   "mimetype": "text/x-python",
   "name": "python",
   "nbconvert_exporter": "python",
   "pygments_lexer": "ipython3",
   "version": "3.7.6"
  }
 },
 "nbformat": 4,
 "nbformat_minor": 4
}
