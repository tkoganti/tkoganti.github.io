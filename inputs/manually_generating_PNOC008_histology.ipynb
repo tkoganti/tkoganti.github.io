{
 "cells": [
  {
   "cell_type": "code",
   "execution_count": 2,
   "metadata": {},
   "outputs": [],
   "source": [
    "import pandas as pd \n",
    "\n",
    "all_pbta = pd.read_csv(\"pbta-histologies.tsv\", sep=\"\\t\")\n",
    "pnoc008_pbta = pd.read_csv(\"histology_fromoldpnoc003repo_PNOC008.tsv\", sep=\"\\t\")\n"
   ]
  },
  {
   "cell_type": "code",
   "execution_count": 3,
   "metadata": {},
   "outputs": [],
   "source": [
    "# Adding or changing columns in pnoc008 so they match  PBTA \n",
    "pnoc008_pbta[\"CNS_region\"] =\"NA\"\n",
    "pnoc008_pbta[\"molecular_subtype\"] = \"NA\"\n",
    "pnoc008_pbta[\"pathology_free_text_diagnosis\"] = \"NA\"\n",
    "pnoc008_pbta = pnoc008_pbta.rename(columns={\"os_days\":\"OS_days\", \"os_status\":\"OS_status\"})"
   ]
  },
  {
   "cell_type": "code",
   "execution_count": 4,
   "metadata": {},
   "outputs": [],
   "source": [
    "pnoc008_pbta = pnoc008_pbta[['Kids_First_Biospecimen_ID', 'CNS_region', 'sample_id', 'aliquot_id',\n",
    "       'Kids_First_Participant_ID', 'experimental_strategy', 'sample_type',\n",
    "       'composition', 'tumor_descriptor', 'primary_site', 'reported_gender',\n",
    "       'race', 'ethnicity', 'age_at_diagnosis_days', 'pathology_diagnosis',\n",
    "       'integrated_diagnosis', 'short_histology', 'broad_histology',\n",
    "       'broad_composition', 'Notes', 'germline_sex_estimate', 'RNA_library',\n",
    "       'OS_days', 'OS_status', 'cohort', 'age_last_update_days', 'seq_center',\n",
    "       'normal_fraction', 'tumor_fraction', 'tumor_ploidy',\n",
    "       'parent_aliquot_id', 'cancer_predispositions', 'molecular_subtype',\n",
    "       'pathology_free_text_diagnosis', 'cohort_participant_id']]"
   ]
  },
  {
   "cell_type": "code",
   "execution_count": 5,
   "metadata": {},
   "outputs": [],
   "source": [
    "pnoc008_pbta.to_csv(\"pnoc008_hist_manuallygeneratedtill_pnoc008-15.tsv\", sep=\"\\t\", index=None)"
   ]
  },
  {
   "cell_type": "code",
   "execution_count": 9,
   "metadata": {},
   "outputs": [],
   "source": [
    "combined_histology = pd.concat([all_pbta, pnoc008_pbta], ignore_index=True).shape"
   ]
  },
  {
   "cell_type": "code",
   "execution_count": 10,
   "metadata": {},
   "outputs": [],
   "source": [
    "all_pbta.to_csv(\"pbta_histology_with_PNOC008_upto_15.tsv\",  index=None, sep=\"\\t\")"
   ]
  },
  {
   "cell_type": "code",
   "execution_count": null,
   "metadata": {},
   "outputs": [],
   "source": []
  }
 ],
 "metadata": {
  "kernelspec": {
   "display_name": "Python 3",
   "language": "python",
   "name": "python3"
  },
  "language_info": {
   "codemirror_mode": {
    "name": "ipython",
    "version": 3
   },
   "file_extension": ".py",
   "mimetype": "text/x-python",
   "name": "python",
   "nbconvert_exporter": "python",
   "pygments_lexer": "ipython3",
   "version": "3.7.6"
  }
 },
 "nbformat": 4,
 "nbformat_minor": 4
}
